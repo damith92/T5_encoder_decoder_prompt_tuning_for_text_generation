{
 "cells": [
  {
   "cell_type": "markdown",
   "id": "5f6f1d8a-7983-4a39-827f-a976ef1145f5",
   "metadata": {},
   "source": [
    "# Testing the extent of memorization for the tokens in generated text and the testing set used for generation"
   ]
  },
  {
   "cell_type": "code",
   "execution_count": 1,
   "id": "899f6d39-0835-4ecc-913a-b873ac670e26",
   "metadata": {},
   "outputs": [],
   "source": [
    "import pandas as pd\n",
    "import numpy as np"
   ]
  },
  {
   "cell_type": "code",
   "execution_count": 2,
   "id": "e198fcd4-12e3-4d26-8f85-92fccdcfa0d2",
   "metadata": {},
   "outputs": [],
   "source": [
    "def make_unique_ngram_dict(generations):\n",
    "    \n",
    "    dict_1 = {}\n",
    "    \n",
    "    bigrams, trigrams, quadgrams, pentagrams = set(), set(), set(), set()\n",
    "    #total_words = 0\n",
    "    for gen in generations:\n",
    "        o = str(gen).split(' ')\n",
    "        #total_words += len(o)\n",
    "        #unigrams.update(o)\n",
    "        for i in range(len(o) - 1):\n",
    "            bigrams.add(o[i] + '_' + o[i+1])\n",
    "        for i in range(len(o) - 2):\n",
    "            trigrams.add(o[i] + '_' + o[i+1] + '_' + o[i+2])\n",
    "        for i in range(len(o) - 3):\n",
    "            quadgrams.add(o[i] + '_' + o[i+1] + '_' + o[i+2] + '_' + o[i+3])\n",
    "        for i in range(len(o) - 4):\n",
    "            pentagrams.add(o[i] + '_' + o[i+1] + '_' + o[i+2] + '_' + o[i+3]+ '_' + o[i+4])\n",
    "            \n",
    "    dict_1[\"2-grams\"] = bigrams\n",
    "    dict_1[\"3-grams\"] = trigrams\n",
    "    dict_1[\"4-grams\"] = quadgrams\n",
    "    dict_1[\"5-grams\"] = pentagrams\n",
    "            \n",
    "    \n",
    "    return dict_1"
   ]
  },
  {
   "cell_type": "code",
   "execution_count": 3,
   "id": "31c65dc9-39cd-4087-9aa2-1b37964d45d8",
   "metadata": {},
   "outputs": [],
   "source": [
    "def calc_overlap_percentage(train_ngram_dict, test_ngram__dict): \n",
    "    \n",
    "    \n",
    "    overlap_dict = {}\n",
    "    results_dict = {}\n",
    "    for i in zip(train_ngram_dict, test_ngram__dict):\n",
    "\n",
    "        inter_set = None\n",
    "        if i[0] == i[1]:\n",
    "\n",
    "            inter_set = train_ngram_dict[i[0]].intersection(test_ngram__dict[i[1]])\n",
    "            \n",
    "            overlap_dict[str(i[0])+\"_overlap\"] = inter_set\n",
    "\n",
    "            overlap_perc = len(inter_set)/len(test_ngram__dict[i[1]])\n",
    "\n",
    "            results_dict[str(i[0])+\"_overlap_perc\"] = overlap_perc\n",
    "\n",
    "        else:\n",
    "            raise Exception(\"Sorry, the train and test n-gram keys don't match\")\n",
    "            \n",
    "            \n",
    "    return results_dict, overlap_dict"
   ]
  },
  {
   "cell_type": "code",
   "execution_count": null,
   "id": "1dc7d9ae-bd5d-4810-a37c-5c4f0483d100",
   "metadata": {},
   "outputs": [],
   "source": []
  },
  {
   "cell_type": "code",
   "execution_count": 4,
   "id": "33e091d3-65d8-48e5-92eb-8ed48b4facdb",
   "metadata": {},
   "outputs": [],
   "source": [
    "df_neg_file = pd.read_csv(\"../data/2_data_remove_duplicates_5_neg_sampled_test.csv\", encoding='utf-8')\n",
    "\n",
    "neg_predict_train = df_neg_file[\"reviewText\"].tolist()\n",
    "\n",
    "del df_neg_file\n",
    "\n",
    "df_pos_file = pd.read_csv(\"../data/2_data_remove_duplicates_5_pos_sampled_test.csv\", encoding='utf-8')\n",
    "\n",
    "pos_predict_train = df_pos_file[\"reviewText\"].tolist()\n",
    "\n",
    "del df_pos_file"
   ]
  },
  {
   "cell_type": "code",
   "execution_count": 5,
   "id": "5ae1b783-5119-4517-a957-952128a30d55",
   "metadata": {},
   "outputs": [],
   "source": [
    "tot_predict_train = pos_predict_train+neg_predict_train"
   ]
  },
  {
   "cell_type": "code",
   "execution_count": 6,
   "id": "fe5f3f1b-b4b0-4c2b-bb8a-22d97fa75b70",
   "metadata": {},
   "outputs": [],
   "source": [
    "train_ngram_dict = make_unique_ngram_dict(tot_predict_train)"
   ]
  },
  {
   "cell_type": "code",
   "execution_count": null,
   "id": "34a87e42-3f65-422c-922a-9aee173331d7",
   "metadata": {},
   "outputs": [],
   "source": []
  },
  {
   "cell_type": "code",
   "execution_count": null,
   "id": "78c254f8-2f98-4f79-bfc5-b14b19a74eb1",
   "metadata": {},
   "outputs": [],
   "source": []
  },
  {
   "cell_type": "markdown",
   "id": "62538339-8d37-45ca-8a75-87b4c197afc6",
   "metadata": {},
   "source": [
    "## GPT-2 training testing n-gram overalp"
   ]
  },
  {
   "cell_type": "code",
   "execution_count": null,
   "id": "42d7590c-a72d-4333-ac5a-a18437ca3400",
   "metadata": {},
   "outputs": [],
   "source": []
  },
  {
   "cell_type": "code",
   "execution_count": 7,
   "id": "65f7ad7f-6139-4b8f-ba88-581fdf18542c",
   "metadata": {},
   "outputs": [],
   "source": [
    "df_neg_file = pd.read_csv(\"../data/GPT2_Neg_Pred.csv\", encoding='utf-8')\n",
    "\n",
    "neg_predict_test = df_neg_file[\"reviewText\"].tolist()\n",
    "\n",
    "del df_neg_file\n",
    "\n",
    "df_pos_file = pd.read_csv(\"../data/GPT2_Pos_Pred.csv\", encoding='utf-8')\n",
    "\n",
    "pos_predict_test = df_pos_file[\"reviewText\"].tolist()\n",
    "\n",
    "del df_pos_file"
   ]
  },
  {
   "cell_type": "code",
   "execution_count": 8,
   "id": "b84e7513-2f0c-48bc-a57f-909288f2fe40",
   "metadata": {},
   "outputs": [],
   "source": [
    "tot_predict_test = pos_predict_test+neg_predict_test"
   ]
  },
  {
   "cell_type": "code",
   "execution_count": 9,
   "id": "3556c51f-a4dc-41d2-8d33-7c5fbae836e1",
   "metadata": {},
   "outputs": [],
   "source": [
    "test_ngram__dict = make_unique_ngram_dict(tot_predict_test)"
   ]
  },
  {
   "cell_type": "code",
   "execution_count": null,
   "id": "5858488a-e3d2-4cc2-86aa-f9b90c2b72bb",
   "metadata": {},
   "outputs": [],
   "source": []
  },
  {
   "cell_type": "code",
   "execution_count": 10,
   "id": "71452f68-97c4-4d3c-a1ee-ee0c2567ac0c",
   "metadata": {},
   "outputs": [],
   "source": [
    "results, overlaps = calc_overlap_percentage(train_ngram_dict, test_ngram__dict)"
   ]
  },
  {
   "cell_type": "code",
   "execution_count": 11,
   "id": "e50f8d6b-7913-4e7f-940f-ddc2459b535c",
   "metadata": {},
   "outputs": [
    {
     "data": {
      "text/plain": [
       "{'2-grams_overlap_perc': 0.14867265685911119,\n",
       " '3-grams_overlap_perc': 0.05705024604672851,\n",
       " '4-grams_overlap_perc': 0.013841443692705771,\n",
       " '5-grams_overlap_perc': 0.0025362868209574483}"
      ]
     },
     "execution_count": 11,
     "metadata": {},
     "output_type": "execute_result"
    }
   ],
   "source": [
    "results"
   ]
  },
  {
   "cell_type": "code",
   "execution_count": 12,
   "id": "aef09c99-5d64-4574-b7ff-223db62cf412",
   "metadata": {},
   "outputs": [
    {
     "name": "stdout",
     "output_type": "stream",
     "text": [
      "2-grams_overlap\n",
      "3-grams_overlap\n",
      "4-grams_overlap\n",
      "5-grams_overlap\n"
     ]
    }
   ],
   "source": [
    "for i in overlaps:\n",
    "    print(i)"
   ]
  },
  {
   "cell_type": "code",
   "execution_count": 13,
   "id": "a128ea42-6460-44b9-bd01-501e41173fb4",
   "metadata": {},
   "outputs": [
    {
     "data": {
      "text/plain": [
       "12602"
      ]
     },
     "execution_count": 13,
     "metadata": {},
     "output_type": "execute_result"
    }
   ],
   "source": [
    "len(overlaps[\"3-grams_overlap\"])"
   ]
  },
  {
   "cell_type": "code",
   "execution_count": null,
   "id": "ca955d81-2b66-4d0b-a29b-6f65602fdfaf",
   "metadata": {},
   "outputs": [],
   "source": []
  },
  {
   "cell_type": "code",
   "execution_count": null,
   "id": "2abe1db7-bd0c-48b8-9e86-cdcd7a8ebc2c",
   "metadata": {},
   "outputs": [],
   "source": []
  },
  {
   "cell_type": "markdown",
   "id": "65eefc43-cfa9-4659-a062-163f813c86b4",
   "metadata": {},
   "source": [
    "## T-5 single prompt at encoder training testing n-gram overalp"
   ]
  },
  {
   "cell_type": "code",
   "execution_count": null,
   "id": "a4dcc5e6-f02d-44a6-b243-e53b0d9d2779",
   "metadata": {},
   "outputs": [],
   "source": []
  },
  {
   "cell_type": "code",
   "execution_count": 14,
   "id": "404d0479-b996-4ca0-9efb-e5cba6e93830",
   "metadata": {},
   "outputs": [],
   "source": [
    "df_neg_file = pd.read_csv(\"../data/T5_enc_Neg_Pred.csv\", encoding='utf-8')\n",
    "\n",
    "neg_predict_test = df_neg_file[\"reviewText\"].tolist()\n",
    "\n",
    "del df_neg_file\n",
    "\n",
    "df_pos_file = pd.read_csv(\"../data/T5_enc_Pos_Pred.csv\", encoding='utf-8')\n",
    "\n",
    "pos_predict_test = df_pos_file[\"reviewText\"].tolist()\n",
    "\n",
    "del df_pos_file"
   ]
  },
  {
   "cell_type": "code",
   "execution_count": 15,
   "id": "63edaa62-8906-45e5-a882-075105eba489",
   "metadata": {},
   "outputs": [],
   "source": [
    "tot_predict_test = pos_predict_test+neg_predict_test"
   ]
  },
  {
   "cell_type": "code",
   "execution_count": 16,
   "id": "11cfc4de-c4c6-4d8d-9a20-98e51126e353",
   "metadata": {},
   "outputs": [],
   "source": [
    "test_ngram__dict = make_unique_ngram_dict(tot_predict_test)"
   ]
  },
  {
   "cell_type": "code",
   "execution_count": 17,
   "id": "dfc2f200-a3f3-4259-99f7-21ae36c19426",
   "metadata": {},
   "outputs": [],
   "source": [
    "results, overlaps = calc_overlap_percentage(train_ngram_dict, test_ngram__dict)"
   ]
  },
  {
   "cell_type": "code",
   "execution_count": 18,
   "id": "b9251ac3-0bb8-4eb8-929a-62cbf586674b",
   "metadata": {},
   "outputs": [
    {
     "data": {
      "text/plain": [
       "{'2-grams_overlap_perc': 0.417349665524848,\n",
       " '3-grams_overlap_perc': 0.2464456619737846,\n",
       " '4-grams_overlap_perc': 0.14171656686626746,\n",
       " '5-grams_overlap_perc': 0.08737512737246088}"
      ]
     },
     "execution_count": 18,
     "metadata": {},
     "output_type": "execute_result"
    }
   ],
   "source": [
    "results"
   ]
  },
  {
   "cell_type": "code",
   "execution_count": null,
   "id": "13399037-8d92-437d-9ee2-fd4497e06850",
   "metadata": {},
   "outputs": [],
   "source": []
  },
  {
   "cell_type": "code",
   "execution_count": null,
   "id": "a8cda4f5-9761-429e-8fb4-9fb6d1c8744c",
   "metadata": {},
   "outputs": [],
   "source": []
  },
  {
   "cell_type": "markdown",
   "id": "03dbead4-8364-4719-b9ea-cc728b8763a8",
   "metadata": {},
   "source": [
    "## T-5 single prompt at decoder training testing n-gram overalp"
   ]
  },
  {
   "cell_type": "code",
   "execution_count": 19,
   "id": "66f09cef-afe7-4582-9ca8-efbb754e7bfe",
   "metadata": {},
   "outputs": [],
   "source": [
    "df_neg_file = pd.read_csv(\"../data/T5_dec_Neg_Pred.csv\", encoding='utf-8')\n",
    "\n",
    "neg_predict_test = df_neg_file[\"reviewText\"].tolist()\n",
    "\n",
    "del df_neg_file\n",
    "\n",
    "df_pos_file = pd.read_csv(\"../data/T5_dec_Pos_Pred.csv\", encoding='utf-8')\n",
    "\n",
    "pos_predict_test = df_pos_file[\"reviewText\"].tolist()\n",
    "\n",
    "del df_pos_file"
   ]
  },
  {
   "cell_type": "code",
   "execution_count": 20,
   "id": "f5cfcbd4-a787-4750-b700-140efd908e5c",
   "metadata": {},
   "outputs": [],
   "source": [
    "tot_predict_test = pos_predict_test+neg_predict_test"
   ]
  },
  {
   "cell_type": "code",
   "execution_count": 21,
   "id": "5cca2b0a-db7f-4fc0-bf63-b5e731b25d8a",
   "metadata": {},
   "outputs": [],
   "source": [
    "test_ngram__dict = make_unique_ngram_dict(tot_predict_test)"
   ]
  },
  {
   "cell_type": "code",
   "execution_count": 22,
   "id": "35d2733d-beb7-42ad-978c-4909ccdcc18e",
   "metadata": {},
   "outputs": [],
   "source": [
    "results, overlaps = calc_overlap_percentage(train_ngram_dict, test_ngram__dict)"
   ]
  },
  {
   "cell_type": "code",
   "execution_count": 23,
   "id": "413b1ec3-ffda-4cf9-8b32-f90b29b970f5",
   "metadata": {},
   "outputs": [
    {
     "data": {
      "text/plain": [
       "{'2-grams_overlap_perc': 0.28547965859831453,\n",
       " '3-grams_overlap_perc': 0.1696690120969704,\n",
       " '4-grams_overlap_perc': 0.1013918224520034,\n",
       " '5-grams_overlap_perc': 0.06527692741997573}"
      ]
     },
     "execution_count": 23,
     "metadata": {},
     "output_type": "execute_result"
    }
   ],
   "source": [
    "results"
   ]
  },
  {
   "cell_type": "code",
   "execution_count": null,
   "id": "d26f0b28-df1a-4832-9bfd-809655c4bf76",
   "metadata": {},
   "outputs": [],
   "source": []
  },
  {
   "cell_type": "code",
   "execution_count": null,
   "id": "33e2e181-07b1-4ea2-af9b-72f486002aa1",
   "metadata": {},
   "outputs": [],
   "source": []
  },
  {
   "cell_type": "markdown",
   "id": "035b624f-048a-49ee-a1b7-a58ecc5805f3",
   "metadata": {},
   "source": [
    "## T-5 prompt at encoder and decoder training testing n-gram overalp"
   ]
  },
  {
   "cell_type": "code",
   "execution_count": 24,
   "id": "05b9c241-4f42-4167-bded-d50ef0c0d6fe",
   "metadata": {},
   "outputs": [],
   "source": [
    "df_neg_file = pd.read_csv(\"../data/T5_enc_dec_Neg_Pred.csv\", encoding='utf-8')\n",
    "\n",
    "neg_predict_test = df_neg_file[\"reviewText\"].tolist()\n",
    "\n",
    "del df_neg_file\n",
    "\n",
    "df_pos_file = pd.read_csv(\"../data/T5_enc_dec_Pos_Pred.csv\", encoding='utf-8')\n",
    "\n",
    "pos_predict_test = df_pos_file[\"reviewText\"].tolist()\n",
    "\n",
    "del df_pos_file"
   ]
  },
  {
   "cell_type": "code",
   "execution_count": 25,
   "id": "75c8ba5b-30bb-48ee-9bda-80b57a056a86",
   "metadata": {},
   "outputs": [],
   "source": [
    "tot_predict_test = pos_predict_test+neg_predict_test"
   ]
  },
  {
   "cell_type": "code",
   "execution_count": 26,
   "id": "a1ccb6dd-08c3-416c-b335-c87a6d01adf2",
   "metadata": {},
   "outputs": [],
   "source": [
    "test_ngram__dict = make_unique_ngram_dict(tot_predict_test)"
   ]
  },
  {
   "cell_type": "code",
   "execution_count": 27,
   "id": "6cb8cb13-301b-436b-811e-a8e38dbedb1f",
   "metadata": {},
   "outputs": [],
   "source": [
    "results, overlaps = calc_overlap_percentage(train_ngram_dict, test_ngram__dict)"
   ]
  },
  {
   "cell_type": "code",
   "execution_count": 28,
   "id": "bf6b8034-44c8-4b90-80b7-6c03fc82782d",
   "metadata": {},
   "outputs": [
    {
     "data": {
      "text/plain": [
       "{'2-grams_overlap_perc': 0.48143780750620097,\n",
       " '3-grams_overlap_perc': 0.3125673135809769,\n",
       " '4-grams_overlap_perc': 0.19128592300219535,\n",
       " '5-grams_overlap_perc': 0.12260419642573724}"
      ]
     },
     "execution_count": 28,
     "metadata": {},
     "output_type": "execute_result"
    }
   ],
   "source": [
    "results"
   ]
  },
  {
   "cell_type": "code",
   "execution_count": null,
   "id": "2194d078-b42a-43b3-84f7-d2a3356c5986",
   "metadata": {},
   "outputs": [],
   "source": [
    "overlaps[\"2-grams_overlap\"]"
   ]
  },
  {
   "cell_type": "code",
   "execution_count": null,
   "id": "8edfef10-82ef-40a4-9652-4245b1b9fa85",
   "metadata": {},
   "outputs": [],
   "source": [
    "overlaps[\"3-grams_overlap\"]"
   ]
  },
  {
   "cell_type": "code",
   "execution_count": null,
   "id": "341d043f-4c4b-4833-a215-2aaafe627287",
   "metadata": {},
   "outputs": [],
   "source": [
    "overlaps[\"4-grams_overlap\"]"
   ]
  },
  {
   "cell_type": "code",
   "execution_count": null,
   "id": "1035fcce-59b7-4087-a428-3fa493cf539d",
   "metadata": {},
   "outputs": [],
   "source": [
    "overlaps[\"5-grams_overlap\"]"
   ]
  },
  {
   "cell_type": "code",
   "execution_count": null,
   "id": "3225be76-6239-4b3d-bdd3-7159bfde0e31",
   "metadata": {},
   "outputs": [],
   "source": []
  },
  {
   "cell_type": "code",
   "execution_count": null,
   "id": "4c90a23a-7425-4a37-8a18-5e903e06b342",
   "metadata": {},
   "outputs": [],
   "source": []
  },
  {
   "cell_type": "code",
   "execution_count": null,
   "id": "65d08de5-22da-4813-aa68-fa60a5950f2a",
   "metadata": {},
   "outputs": [],
   "source": []
  },
  {
   "cell_type": "markdown",
   "id": "04f9a8dc-7b1c-4b3a-b924-7b5051b0a90b",
   "metadata": {},
   "source": [
    "## T-5 steer prompt at encoder and decoder training testing n-gram overalp"
   ]
  },
  {
   "cell_type": "code",
   "execution_count": 33,
   "id": "3bf02868-eae6-4806-9eaa-9027c9d74a78",
   "metadata": {},
   "outputs": [],
   "source": [
    "df_neg_file = pd.read_csv(\"../data/T5_steer_both_Neg_Pred.csv\", encoding='utf-8')\n",
    "\n",
    "neg_predict_test = df_neg_file[\"reviewText\"].tolist()\n",
    "\n",
    "del df_neg_file\n",
    "\n",
    "df_pos_file = pd.read_csv(\"../data/T5_steer_both_Pos_Pred.csv\", encoding='utf-8')\n",
    "\n",
    "pos_predict_test = df_pos_file[\"reviewText\"].tolist()\n",
    "\n",
    "del df_pos_file"
   ]
  },
  {
   "cell_type": "code",
   "execution_count": 34,
   "id": "7ae7af75-bf63-429e-af60-a60c1e375043",
   "metadata": {},
   "outputs": [],
   "source": [
    "tot_predict_test = pos_predict_test+neg_predict_test"
   ]
  },
  {
   "cell_type": "code",
   "execution_count": 35,
   "id": "e81a958c-272f-48cf-b0f5-680c2ac6d934",
   "metadata": {},
   "outputs": [],
   "source": [
    "test_ngram__dict = make_unique_ngram_dict(tot_predict_test)"
   ]
  },
  {
   "cell_type": "code",
   "execution_count": null,
   "id": "6a9fa365-e9b1-4b1b-afc1-1e73789e5e81",
   "metadata": {},
   "outputs": [],
   "source": []
  },
  {
   "cell_type": "code",
   "execution_count": 37,
   "id": "39933fa3-6fdb-461b-b0b9-0d588bf60045",
   "metadata": {},
   "outputs": [],
   "source": [
    "results, overlaps = calc_overlap_percentage(train_ngram_dict, test_ngram__dict)"
   ]
  },
  {
   "cell_type": "code",
   "execution_count": 38,
   "id": "48829a14-dc1c-4633-b9c9-7eee2f862a3f",
   "metadata": {},
   "outputs": [
    {
     "data": {
      "text/plain": [
       "{'2-grams_overlap_perc': 0.18834957463263727,\n",
       " '3-grams_overlap_perc': 0.12106436274981286,\n",
       " '4-grams_overlap_perc': 0.08596788394947665,\n",
       " '5-grams_overlap_perc': 0.06723046583011276}"
      ]
     },
     "execution_count": 38,
     "metadata": {},
     "output_type": "execute_result"
    }
   ],
   "source": [
    "results"
   ]
  },
  {
   "cell_type": "code",
   "execution_count": null,
   "id": "0090fb9d-11f7-4740-b3f3-8bf38f40e730",
   "metadata": {},
   "outputs": [],
   "source": []
  },
  {
   "cell_type": "code",
   "execution_count": null,
   "id": "ec31ae9b-6d75-42ca-a0e5-4df92b5cc8fc",
   "metadata": {},
   "outputs": [],
   "source": []
  },
  {
   "cell_type": "code",
   "execution_count": null,
   "id": "d61156d4-90b9-4af3-a541-1551b2bdb60f",
   "metadata": {},
   "outputs": [],
   "source": []
  },
  {
   "cell_type": "code",
   "execution_count": null,
   "id": "14b844d7-6192-4d59-bbe9-1d343111c1a5",
   "metadata": {},
   "outputs": [],
   "source": []
  }
 ],
 "metadata": {
  "kernelspec": {
   "display_name": "Python 3 (ipykernel)",
   "language": "python",
   "name": "python3"
  },
  "language_info": {
   "codemirror_mode": {
    "name": "ipython",
    "version": 3
   },
   "file_extension": ".py",
   "mimetype": "text/x-python",
   "name": "python",
   "nbconvert_exporter": "python",
   "pygments_lexer": "ipython3",
   "version": "3.10.6"
  }
 },
 "nbformat": 4,
 "nbformat_minor": 5
}
