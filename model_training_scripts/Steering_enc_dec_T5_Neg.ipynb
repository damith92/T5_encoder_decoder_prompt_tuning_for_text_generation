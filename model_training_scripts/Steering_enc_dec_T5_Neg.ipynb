{
 "cells": [
  {
   "cell_type": "markdown",
   "id": "34dc6185-43cc-4670-a0a9-95fa5d007d09",
   "metadata": {},
   "source": [
    "# Prompt tuning model implementation for steering the T5 with encoder-decoder prompts to produce negative reviews"
   ]
  },
  {
   "cell_type": "code",
   "execution_count": null,
   "id": "62d61cff-e2e2-492c-abcc-6c7781ed10d1",
   "metadata": {},
   "outputs": [],
   "source": [
    "import os\n",
    "import json\n",
    "import gzip\n",
    "import pandas as pd\n",
    "from urllib.request import urlopen\n",
    "import string\n",
    "\n",
    "\n",
    "import numpy as np\n",
    "import statistics as st\n",
    "import glob\n",
    "import sys\n",
    "import io\n",
    "\n",
    "import zipfile\n",
    "import tarfile\n",
    "\n",
    "import logging\n",
    "from collections import Counter\n",
    "\n",
    "import matplotlib\n",
    "import matplotlib.pyplot as plt\n",
    "from sklearn.utils import shuffle\n",
    "\n",
    "from sklearn.model_selection import train_test_split\n",
    "import torch\n",
    "from sklearn.metrics import accuracy_score, f1_score\n",
    "from tqdm.notebook import tqdm\n",
    "\n",
    "import warnings\n",
    "warnings.filterwarnings(\"ignore\")\n",
    "import math"
   ]
  },
  {
   "cell_type": "code",
   "execution_count": 1,
   "id": "ebc7a0f2-fb00-4929-8ab0-c23f143a3797",
   "metadata": {},
   "outputs": [],
   "source": []
  },
  {
   "cell_type": "code",
   "execution_count": null,
   "id": "c93bd3d5-ac2d-4a8c-b998-a85780ea7336",
   "metadata": {},
   "outputs": [],
   "source": [
    "#Set one cuda visible device if multiple GPUs are avialable\n",
    "%env CUDA_DEVICE_ORDER=PCI_BUS_ID\n",
    "%env CUDA_VISIBLE_DEVICES=0"
   ]
  },
  {
   "cell_type": "code",
   "execution_count": null,
   "id": "c0ac079f-1927-4f85-b129-e8d193ffe85f",
   "metadata": {},
   "outputs": [],
   "source": [
    "from transformers import (\n",
    "    T5TokenizerFast,\n",
    "    get_scheduler\n",
    ")\n",
    "import torch\n",
    "\n",
    "from transformers.optimization import Adafactor, AdafactorSchedule\n",
    "sys.path.append(\"..\")\n",
    "\n",
    "from model_classes.model_t5_encoder_decoder_prompt import T5PromptTuningLM\n"
   ]
  },
  {
   "cell_type": "code",
   "execution_count": null,
   "id": "2b5129f5-bd14-4d1d-b1cf-774ad1b2a4d9",
   "metadata": {},
   "outputs": [],
   "source": [
    "# Fix the seed to be able to get the same randomness across runs and hence reproducible outcomes\n",
    "def get_device_and_set_seed(seed):\n",
    "    \"\"\" Set all seeds to make results reproducible \"\"\"\n",
    "    torch.manual_seed(seed)\n",
    "    torch.cuda.manual_seed_all(seed)\n",
    "    torch.backends.cudnn.deterministic = True\n",
    "    np.random.seed(seed)\n",
    "    use_cuda = torch.cuda.is_available()\n",
    "    device = torch.device(\"cuda:0\" if use_cuda else \"cpu\")\n",
    "    return device\n",
    "    \n",
    "SEED = 123\n",
    "device = get_device_and_set_seed(SEED)"
   ]
  },
  {
   "cell_type": "code",
   "execution_count": null,
   "id": "62eaca36-7924-4711-aff5-5db145ea19f2",
   "metadata": {},
   "outputs": [],
   "source": [
    "class Config:\n",
    "    \n",
    "    num_train_epochs = 20\n",
    "    learning_rate = 0.15\n",
    "    warmup_steps = 500\n",
    "    max_train_steps = num_train_epochs\n",
    "    weight_decay=0.01\n",
    "    batch_size = 10\n",
    "    # Prompt-tuning\n",
    "    # number of prompt tokens\n",
    "    n_prompt_tokens = 20\n",
    "    # If True, soft prompt will be initialized from vocab \n",
    "    # Otherwise, you can set `random_range` to initialize by randomization.\n",
    "    init_from_vocab = True\n",
    "    # random_range = 0.5\n",
    "args = Config()"
   ]
  },
  {
   "cell_type": "code",
   "execution_count": null,
   "id": "c3ee46c9-4bae-4ba6-b518-986a5525e91a",
   "metadata": {},
   "outputs": [],
   "source": [
    "tokenizer = T5TokenizerFast.from_pretrained(\"google/t5-small-lm-adapt\")\n",
    "# Load the model\n",
    "model_pos = T5PromptTuningLM.from_pretrained(\n",
    "    \"google/t5-small-lm-adapt\",\n",
    "    encoder_soft_prompt_path=\"../trained_models/t5_encoder_decoder/positive/encoder_soft_prompt_T5_pos.model\",\n",
    "    decoder_soft_prompt_path=\"../trained_models/t5_encoder_decoder/positive/decoder_soft_prompt_T5_pos.model\",\n",
    "    device=device\n",
    ").to(device)\n",
    "model_pos.eval()\n",
    "print(1)"
   ]
  },
  {
   "cell_type": "code",
   "execution_count": null,
   "id": "77ad07b0-b3fc-4ec1-a992-21072b18c27b",
   "metadata": {},
   "outputs": [],
   "source": [
    "\n",
    "# Load the model\n",
    "model_neg = T5PromptTuningLM.from_pretrained(\n",
    "    \"google/t5-small-lm-adapt\",\n",
    "    encoder_soft_prompt_path=\"../trained_models/t5_encoder_decoder/negative/encoder_soft_prompt_T5_neg.model\",\n",
    "    decoder_soft_prompt_path=\"../trained_models/t5_encoder_decoder/negative/decoder_soft_prompt_T5_neg.model\",\n",
    "    device=device\n",
    ").to(device)\n",
    "model_neg.eval()\n",
    "print(1)"
   ]
  },
  {
   "cell_type": "code",
   "execution_count": null,
   "id": "843e3beb-e141-4f36-9595-3635737346ba",
   "metadata": {},
   "outputs": [],
   "source": [
    "from model_classes.de_generation_2 import DExpertsGenerationMod"
   ]
  },
  {
   "cell_type": "code",
   "execution_count": null,
   "id": "b1c72927-c4e3-4775-bf31-5ff879d73e01",
   "metadata": {},
   "outputs": [],
   "source": [
    "test = \"the movie was\"\n",
    "call = tokenizer(test, return_tensors=\"pt\").input_ids\n",
    "\n",
    "input_ids = torch.tensor([call.tolist()[0][:-1]]).to(device)"
   ]
  },
  {
   "cell_type": "code",
   "execution_count": null,
   "id": "52276a8a-d12c-4bc7-b923-b60d4b324e59",
   "metadata": {},
   "outputs": [],
   "source": [
    "input_ids = torch.tensor([call.tolist()[0][:-1]]).to(device)\n",
    "decoder_input_ids = torch.zeros([1,1]).long().to(device)"
   ]
  },
  {
   "cell_type": "code",
   "execution_count": null,
   "id": "bf0b592a-400c-4db0-91c5-9e373a30cece",
   "metadata": {},
   "outputs": [],
   "source": []
  },
  {
   "cell_type": "code",
   "execution_count": null,
   "id": "3f15ad39-effa-42fc-9df8-be10247e5ccc",
   "metadata": {},
   "outputs": [],
   "source": [
    "de_mod_2 = DExpertsGenerationMod(expert_model=model_neg, antiexpert_model=model_pos, device=device, seed=SEED)"
   ]
  },
  {
   "cell_type": "code",
   "execution_count": null,
   "id": "ca6c6274-b111-49cf-b890-49808fb489d5",
   "metadata": {
    "scrolled": true,
    "tags": []
   },
   "outputs": [],
   "source": [
    "op_2 = de_mod_2.generate(input_ids = input_ids,\n",
    "                 decoder_input_ids = decoder_input_ids,\n",
    "                 max_len = 200,\n",
    "                 sample = True,\n",
    "                 filter_p = 0.9,\n",
    "                 k = 0,\n",
    "                 p = 0.9,\n",
    "                 temperature= 1.8,\n",
    "                 alpha = 1.2,   \n",
    "                      )"
   ]
  },
  {
   "cell_type": "code",
   "execution_count": null,
   "id": "94e78d96-c648-439f-ab72-c7cb7ac266a8",
   "metadata": {},
   "outputs": [],
   "source": [
    "print(tokenizer.decode(op_2[0], skip_special_tokens=True))"
   ]
  },
  {
   "cell_type": "code",
   "execution_count": null,
   "id": "2c8dfacf-7d3b-4aa1-bd64-419ade4bc23e",
   "metadata": {},
   "outputs": [],
   "source": []
  },
  {
   "cell_type": "code",
   "execution_count": null,
   "id": "9883b496-f5e0-4513-ad84-844e924bf617",
   "metadata": {},
   "outputs": [],
   "source": [
    "df_neg_test = pd.read_csv(\"../data/2_data_remove_duplicates_5_neg_sampled_test.csv\", encoding='utf-8')\n",
    "\n",
    "test_texts = df_neg_test[\"reviewText\"].tolist() \n",
    "#test_texts = shuffle(np.array(test_texts), random_state=SEED)\n",
    "\n",
    "del df_neg_test "
   ]
  },
  {
   "cell_type": "code",
   "execution_count": null,
   "id": "c85036c1-b3a2-41c5-8ead-b70ff1b7f3ea",
   "metadata": {},
   "outputs": [],
   "source": []
  },
  {
   "cell_type": "code",
   "execution_count": null,
   "id": "ba0e37d6-07ca-4aff-b595-93c35d0386dd",
   "metadata": {},
   "outputs": [],
   "source": [
    "class AmazonDatasetTest(torch.utils.data.Dataset):\n",
    "    def __init__(self, texts, tokenizer, inp_perecentage=0.4):\n",
    "        self.texts = texts\n",
    "        self.tokenizer = tokenizer\n",
    "        self.inp_perecentage = inp_perecentage\n",
    "\n",
    "    def __getitem__(self, idx):\n",
    "\n",
    "        encodings = self.tokenizer.encode(self.texts[idx], truncation=True, padding=True, return_tensors='pt')\n",
    "        item = {}\n",
    "        full_ids = encodings.tolist()[0][:-1]\n",
    "        \n",
    "        item[\"full_text\"]=self.texts[idx]\n",
    "        full_len = len(full_ids)\n",
    "    \n",
    "        input_len = math.floor(full_len*self.inp_perecentage)\n",
    "        \n",
    "        if input_len < 3:\n",
    "            input_len=3\n",
    "        elif input_len > 20:\n",
    "            input_len=20\n",
    "        \n",
    "        if full_len < 25:\n",
    "            full_len=25\n",
    "            \n",
    "        item[\"min_length\"] = (input_len+full_len)+args.n_prompt_tokens+80\n",
    "        item[\"max_length\"] = (input_len+full_len)+args.n_prompt_tokens+80\n",
    "        item[\"input_ids\"] = torch.tensor([full_ids[:input_len]]).to(device)\n",
    "        item[\"full_len\"] = full_len\n",
    "        item[\"input_len\"] = input_len\n",
    "        item[\"full_ids\"]= full_ids\n",
    "        \n",
    "        return item\n",
    "\n",
    "    def __len__(self):\n",
    "        return len(self.texts)\n",
    "    \n",
    "\n",
    "test_dataset = AmazonDatasetTest(test_texts, tokenizer)"
   ]
  },
  {
   "cell_type": "code",
   "execution_count": null,
   "id": "c55c428b-7117-48d6-948f-6bc66f4e3760",
   "metadata": {},
   "outputs": [],
   "source": []
  },
  {
   "cell_type": "code",
   "execution_count": null,
   "id": "13bfcd0f-b6c7-4fdf-b013-de4ac23d882e",
   "metadata": {},
   "outputs": [],
   "source": [
    "from sacrebleu import corpus_bleu\n",
    "from rouge_score import rouge_scorer\n",
    "from torch import nn\n",
    "\n",
    "def bleu_score(li_abs_hyp, li_abs_ref):\n",
    "    \"\"\"\n",
    "    Computes the BLEU score\n",
    "    :param li_abs_hyp: list of hypothesis abstracts (token strings)\n",
    "    :param li_abs_ref: list of reference abstracts (token strings)\n",
    "    \"\"\"\n",
    "    bleu = corpus_bleu(li_abs_hyp, [li_abs_ref])\n",
    "\n",
    "    return bleu.score\n",
    "\n",
    "\n",
    "def rouge_score(li_abs_hyp, li_abs_ref):\n",
    "    \"\"\"\n",
    "    Computes the ROUGE score\n",
    "    :param li_abs_hyp: list of hypothesis abstracts (token strings)\n",
    "    :param li_abs_ref: list of reference abstracts (token strings)\n",
    "    \"\"\"\n",
    "    rouge_scores = {\"rouge1\": 0, \"rouge2\": 0, \"rougeL\": 0}\n",
    "\n",
    "    scorer = rouge_scorer.RougeScorer([\"rouge1\", \"rouge2\", \"rougeL\"], use_stemmer=True)\n",
    "    for hyp, ref in zip(li_abs_hyp, li_abs_ref):\n",
    "        local_rouge_scores = scorer.score(ref, hyp)\n",
    "        for rouge_type in rouge_scores.keys():\n",
    "            rouge_scores[rouge_type] += local_rouge_scores[rouge_type].fmeasure\n",
    "\n",
    "    # Compute the averages \n",
    "    for rouge_type in rouge_scores.keys():\n",
    "        rouge_scores[rouge_type] = rouge_scores[rouge_type] / max(len(li_abs_hyp), 1e-7)\n",
    "    \n",
    "    return rouge_scores"
   ]
  },
  {
   "cell_type": "code",
   "execution_count": null,
   "id": "71eefed9-8648-4773-a5c2-864be2464513",
   "metadata": {},
   "outputs": [],
   "source": []
  },
  {
   "cell_type": "code",
   "execution_count": null,
   "id": "217ced67-128f-490c-b28c-1548933318ef",
   "metadata": {},
   "outputs": [],
   "source": [
    "def evaluate_T5_gpu_2(net, data_iter, loss_model, device=None):\n",
    "    \"\"\"Compute the f1 score for a model on a dataset using a GPU.\n",
    "\n",
    "    Defined in :numref:`sec_lenet`\"\"\"\n",
    "    if isinstance(net, nn.Module):\n",
    "        net.eval()  # Set the model to evaluation mode\n",
    "        if not device:\n",
    "            device = next(iter(net.parameters())).device\n",
    "    # No. of correct predictions, no. of predictions\n",
    "\n",
    "    \n",
    "    y_tot =[]\n",
    "    y_hat_tot = []\n",
    "    y_hat_tot_plus = []\n",
    "    input_texts_ls = []\n",
    "    full_texts=[]\n",
    "    perplexities = []\n",
    "\n",
    "    with torch.no_grad():\n",
    "        \n",
    "        for inputs in tqdm(data_iter, total=len(data_iter)):\n",
    "            \n",
    "            beam_outputs = net.generate(\n",
    "                input_ids = inputs[\"input_ids\"], \n",
    "                decoder_input_ids = torch.zeros([1,1]).long().to(device),\n",
    "                max_len = inputs[\"max_length\"],\n",
    "                sample = True,\n",
    "                filter_p = 0.9,\n",
    "                k = 0,\n",
    "                p = 0.9,\n",
    "                temperature= 1.8,\n",
    "                alpha = 1.2,\n",
    ")\n",
    "            \n",
    "            \n",
    "            y_hat = \" \".join(data_iter.tokenizer.decode(beam_outputs[0], skip_special_tokens=True).split()[:(inputs[\"full_len\"])]).lower()\n",
    "            y_hat_plus = \" \".join(data_iter.tokenizer.decode(beam_outputs[0], skip_special_tokens=True).split()[:(inputs[\"full_len\"]+inputs[\"input_len\"])]).lower()\n",
    "            input_text = data_iter.tokenizer.decode(inputs[\"input_ids\"][0], skip_special_tokens=True ).lower()\n",
    "            \n",
    "            y_hat = y_hat.replace(input_text, \"\").strip()\n",
    "            y_hat_plus = \" \".join(y_hat_plus.replace(input_text, \"\").strip().split()[:(inputs[\"full_len\"])])\n",
    "            \n",
    "            #print(y_hat_plus,\"\\n\")\n",
    "            \n",
    "            y_tot += [inputs[\"full_text\"]]\n",
    "            #full_texts += [inputs[\"full_text\"]]\n",
    "            input_texts_ls += [input_text]\n",
    "            y_hat_tot += [y_hat]\n",
    "            y_hat_tot_plus += [y_hat_plus]\n",
    "            \n",
    "            \n",
    "            inps_2 = data_iter.tokenizer.encode(y_hat_plus)[:-1]\n",
    "            \n",
    "            labels_2 = torch.tensor([inps_2[1:][:511]+[1]]).to(device)\n",
    "            inputs_2 = torch.tensor([inps_2[:-1][:511]+[1]]).to(device)\n",
    "            mask_2 =  torch.tensor([[1]*inputs_2.shape[1]]).to(device)\n",
    "            \n",
    "            loss_model.eval()\n",
    "            #loss_model.to(device)\n",
    "            loss_2 = loss_model(input_ids=inputs_2, attention_mask=mask_2, decoder_input_ids=inputs_2, decoder_attention_mask=mask_2 , labels=labels_2.to(device)).get(\"loss\").detach() \n",
    "            \n",
    "            #loss_m = (loss_2 - loss_1) / (inputs_2.shape[1] - inputs_1.shape[1])\n",
    "            ppl = math.exp(loss_2.item())\n",
    "            if ppl < 1e4:   # for sanity\n",
    "                perplexities.append(ppl)\n",
    "                #print(\"added ppl = \", ppl)\n",
    "            else:\n",
    "                print(\"missed ppl = \", ppl)\n",
    "                \n",
    "            \n",
    "            \n",
    "    bleu_value = bleu_score(y_hat_tot_plus, y_tot)\n",
    "    try:\n",
    "        rouge_value = rouge_score(y_hat_tot_plus, y_tot)\n",
    "    except:\n",
    "        rouge_value = {\"rouge1\": 0.00}\n",
    "            \n",
    "\n",
    "    return bleu_value, rouge_value, y_hat_tot, y_hat_tot_plus, y_tot, input_texts_ls, np.nanmean(perplexities)\n"
   ]
  },
  {
   "cell_type": "code",
   "execution_count": null,
   "id": "d496f4a4-c565-4b50-adc9-6cc9fca8bff1",
   "metadata": {},
   "outputs": [],
   "source": []
  },
  {
   "cell_type": "code",
   "execution_count": null,
   "id": "61b96e1a-8a9e-4769-bdee-ced7c00b6a03",
   "metadata": {},
   "outputs": [],
   "source": [
    "bl2, rg2, predictions2, preds_plus2, full_texts2, input_texts2, ppl2 = evaluate_T5_gpu_2(de_mod_2, test_dataset, model_neg )"
   ]
  },
  {
   "cell_type": "code",
   "execution_count": null,
   "id": "72caa984-b060-4def-88b5-c96be2401128",
   "metadata": {},
   "outputs": [],
   "source": []
  },
  {
   "cell_type": "code",
   "execution_count": null,
   "id": "4741d6f4-0ef8-4741-ace3-39017d1ac1f7",
   "metadata": {},
   "outputs": [],
   "source": [
    "def distinctness(generations):\n",
    "    \n",
    "    unigrams, bigrams, trigrams = set(), set(), set()\n",
    "    total_words = 0\n",
    "    for gen in generations:\n",
    "        o = gen.split(' ')\n",
    "        total_words += len(o)\n",
    "        unigrams.update(o)\n",
    "        for i in range(len(o) - 1):\n",
    "            bigrams.add(o[i] + '_' + o[i+1])\n",
    "        for i in range(len(o) - 2):\n",
    "            trigrams.add(o[i] + '_' + o[i+1] + '_' + o[i+2])\n",
    "    dist1 = (len(unigrams) / total_words)\n",
    "    dist2 = (len(bigrams) / total_words)\n",
    "    dist3 = (len(trigrams) / total_words)\n",
    "    \n",
    "    return dist1, dist2, dist3"
   ]
  },
  {
   "cell_type": "code",
   "execution_count": null,
   "id": "08d462f7-f3db-4a87-9f13-cc1242d5da16",
   "metadata": {},
   "outputs": [],
   "source": []
  },
  {
   "cell_type": "code",
   "execution_count": null,
   "id": "f691b0cc-7829-48c5-9fe2-dd93f605d918",
   "metadata": {},
   "outputs": [],
   "source": [
    "def get_metrics_2(y_hat_tot_plus, y_tot):\n",
    "    \n",
    "    bleu_value = bleu_score(y_hat_tot_plus, y_tot)\n",
    "    try:\n",
    "        rouge_value = rouge_score(y_hat_tot_plus, y_tot)\n",
    "    except:\n",
    "        rouge_value = {\"rouge1\": 0.00}\n",
    "        \n",
    "                \n",
    "    return bleu_value, rouge_value\n",
    "        "
   ]
  },
  {
   "cell_type": "code",
   "execution_count": null,
   "id": "a213e86f-09c7-4f8a-80a5-063c3827be5d",
   "metadata": {},
   "outputs": [],
   "source": []
  },
  {
   "cell_type": "code",
   "execution_count": null,
   "id": "76b1790d-8b03-42d6-8825-20b8089402e2",
   "metadata": {},
   "outputs": [],
   "source": []
  }
 ],
 "metadata": {
  "kernelspec": {
   "display_name": "Python 3 (ipykernel)",
   "language": "python",
   "name": "python3"
  },
  "language_info": {
   "codemirror_mode": {
    "name": "ipython",
    "version": 3
   },
   "file_extension": ".py",
   "mimetype": "text/x-python",
   "name": "python",
   "nbconvert_exporter": "python",
   "pygments_lexer": "ipython3",
   "version": "3.10.6"
  }
 },
 "nbformat": 4,
 "nbformat_minor": 5
}
