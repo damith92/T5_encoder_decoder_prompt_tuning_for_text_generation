{
 "cells": [
  {
   "cell_type": "markdown",
   "id": "2c028728-0b2f-42e7-8fa7-a07582999ecc",
   "metadata": {},
   "source": [
    "# Training the sentiment classifier with real labelled data"
   ]
  },
  {
   "cell_type": "code",
   "execution_count": 21,
   "id": "786223bb",
   "metadata": {},
   "outputs": [],
   "source": [
    "import os\n",
    "import json\n",
    "import gzip\n",
    "import pandas as pd\n",
    "from urllib.request import urlopen\n",
    "import string\n",
    "\n",
    "\n",
    "import numpy as np\n",
    "import statistics as st\n",
    "import glob\n",
    "import sys\n",
    "import io\n",
    "import re\n",
    "\n",
    "import zipfile\n",
    "import tarfile\n",
    "import logging\n",
    "from collections import Counter\n",
    "\n",
    "import matplotlib\n",
    "import matplotlib.pyplot as plt\n",
    "\n",
    "from sklearn.model_selection import train_test_split\n",
    "from sklearn.utils import shuffle\n",
    "import torch\n",
    "from transformers import DistilBertTokenizerFast\n",
    "from sklearn.metrics import accuracy_score, f1_score, confusion_matrix, classification_report\n",
    "\n",
    "\n",
    "from transformers import DistilBertForSequenceClassification, Trainer, TrainingArguments"
   ]
  },
  {
   "cell_type": "code",
   "execution_count": 22,
   "id": "bf73e8c6-239a-4ec2-a988-05f925789152",
   "metadata": {},
   "outputs": [],
   "source": [
    "#!pip install transformers"
   ]
  },
  {
   "cell_type": "code",
   "execution_count": null,
   "id": "d700539f-32fb-4704-b6a5-48c4e4470a6a",
   "metadata": {},
   "outputs": [],
   "source": []
  },
  {
   "cell_type": "code",
   "execution_count": 23,
   "id": "ce657045-13b3-44ba-a973-8db7974b1c7f",
   "metadata": {},
   "outputs": [
    {
     "name": "stdout",
     "output_type": "stream",
     "text": [
      "env: CUDA_DEVICE_ORDER=PCI_BUS_ID\n",
      "env: CUDA_VISIBLE_DEVICES=0\n"
     ]
    }
   ],
   "source": [
    "#Set one cuda visible device if multiple GPUs are avialable\n",
    "%env CUDA_DEVICE_ORDER=PCI_BUS_ID\n",
    "%env CUDA_VISIBLE_DEVICES=0"
   ]
  },
  {
   "cell_type": "code",
   "execution_count": 24,
   "id": "b93e7e65",
   "metadata": {},
   "outputs": [],
   "source": [
    "# Fix the seed to be able to get the same randomness across runs and hence reproducible outcomes\n",
    "def get_device_and_set_seed(seed):\n",
    "    \"\"\" Set all seeds to make results reproducible \"\"\"\n",
    "    torch.manual_seed(seed)\n",
    "    torch.cuda.manual_seed_all(seed)\n",
    "    torch.backends.cudnn.deterministic = True\n",
    "    np.random.seed(seed)\n",
    "    use_cuda = torch.cuda.is_available()\n",
    "    device = torch.device(\"cuda:0\" if use_cuda else \"cpu\")\n",
    "    return device\n",
    "    \n",
    "SEED = 123\n",
    "device = get_device_and_set_seed(SEED)"
   ]
  },
  {
   "cell_type": "code",
   "execution_count": null,
   "id": "1ca29570-2b14-43a3-8566-0c3602ff5e8f",
   "metadata": {},
   "outputs": [],
   "source": []
  },
  {
   "cell_type": "code",
   "execution_count": null,
   "id": "a5c95be3",
   "metadata": {},
   "outputs": [],
   "source": [
    "df_pos_train = pd.read_csv(\"../data/1_data_remove_duplicates_25_pos_sampled.csv\", encoding='utf-8')\n",
    "df_pos_val = pd.read_csv(\"../data/1_data_remove_duplicates_5_pos_sampled_val.csv\", encoding='utf-8')\n",
    "df_pos_test = pd.read_csv(\"../data/1_data_remove_duplicates_5_pos_sampled_test.csv\", encoding='utf-8')\n",
    "\n",
    "df_neg_train = pd.read_csv(\"../data/1_data_remove_duplicates_25_neg_sampled.csv\", encoding='utf-8')\n",
    "df_neg_val = pd.read_csv(\"../data/1_data_remove_duplicates_5_neg_sampled_val.csv\", encoding='utf-8')\n",
    "df_neg_test = pd.read_csv(\"../data/1_data_remove_duplicates_5_neg_sampled_test.csv\", encoding='utf-8')"
   ]
  },
  {
   "cell_type": "code",
   "execution_count": null,
   "id": "955b3d74-18be-40d1-a596-b249f724590a",
   "metadata": {},
   "outputs": [],
   "source": []
  },
  {
   "cell_type": "code",
   "execution_count": 6,
   "id": "99ab49ad-09be-406f-951a-3a211057821f",
   "metadata": {},
   "outputs": [],
   "source": [
    "train_texts = df_pos_train[\"reviewText\"].tolist() + df_neg_train[\"reviewText\"].tolist()\n",
    "train_labels = df_pos_train[\"label\"].tolist() + df_neg_train[\"label\"].tolist()\n",
    "\n",
    "train_texts, train_labels = shuffle(np.array(train_texts), np.array(train_labels), random_state=SEED)\n",
    "\n",
    "val_texts = df_pos_val[\"reviewText\"].tolist() + df_neg_val[\"reviewText\"].tolist()\n",
    "val_labels = df_pos_val[\"label\"].tolist() + df_neg_val[\"label\"].tolist()\n",
    "\n",
    "val_texts, val_labels = shuffle(np.array(val_texts), np.array(val_labels), random_state=SEED)\n",
    "\n",
    "test_texts = df_pos_test[\"reviewText\"].tolist() + df_neg_test[\"reviewText\"].tolist()\n",
    "test_labels = df_pos_test[\"label\"].tolist() + df_neg_test[\"label\"].tolist()\n",
    "\n",
    "\n",
    "del df_pos_train \n",
    "del df_pos_val \n",
    "del df_pos_test \n",
    "\n",
    "del df_neg_train \n",
    "del df_neg_val\n",
    "del df_neg_test \n"
   ]
  },
  {
   "cell_type": "code",
   "execution_count": null,
   "id": "38c008e8-c4c6-4b17-9aee-a2c2a63b16dc",
   "metadata": {},
   "outputs": [],
   "source": []
  },
  {
   "cell_type": "code",
   "execution_count": 15,
   "id": "0cc5d7ea-ebe6-461b-81f2-8f2c3503a98d",
   "metadata": {},
   "outputs": [],
   "source": [
    "tokenizer = DistilBertTokenizerFast.from_pretrained('distilbert-base-uncased-finetuned-sst-2-english', truncation_side='left')\n"
   ]
  },
  {
   "cell_type": "code",
   "execution_count": null,
   "id": "69bdc68f",
   "metadata": {},
   "outputs": [],
   "source": []
  },
  {
   "cell_type": "code",
   "execution_count": 16,
   "id": "5018d1d5",
   "metadata": {},
   "outputs": [],
   "source": [
    "class AmazonDataset(torch.utils.data.Dataset):\n",
    "    def __init__(self, texts, tokenizer, labels):\n",
    "        self.texts = texts\n",
    "        self.tokenizer = tokenizer\n",
    "        self.labels = labels\n",
    "\n",
    "    def __getitem__(self, idx):\n",
    "        encodings = self.tokenizer(self.texts[idx], truncation=True, padding=\"max_length\")\n",
    "        item = {key: torch.tensor(val).to(device) for key, val in encodings.items()}\n",
    "        item['labels'] = torch.tensor(self.labels[idx]).to(device)\n",
    "        return item\n",
    "\n",
    "    def __len__(self):\n",
    "        return len(self.labels)\n",
    "\n",
    "train_dataset = AmazonDataset(train_texts, tokenizer, train_labels)\n",
    "val_dataset = AmazonDataset(val_texts, tokenizer, val_labels)\n",
    "test_dataset = AmazonDataset(test_texts, tokenizer, test_labels)"
   ]
  },
  {
   "cell_type": "code",
   "execution_count": null,
   "id": "c314612e-a348-4350-ba46-e99ac256810a",
   "metadata": {},
   "outputs": [],
   "source": []
  },
  {
   "cell_type": "markdown",
   "id": "1d02361c-46c4-4d98-9e83-8b08098cb8e7",
   "metadata": {
    "tags": []
   },
   "source": [
    "# Training"
   ]
  },
  {
   "cell_type": "code",
   "execution_count": null,
   "id": "ad712edf-7129-434c-ba78-51a48540ed3b",
   "metadata": {},
   "outputs": [],
   "source": []
  },
  {
   "cell_type": "code",
   "execution_count": 9,
   "id": "50e5a206-cf44-4f57-a904-77cb8946cbd5",
   "metadata": {},
   "outputs": [],
   "source": [
    "\n",
    "def compute_metric(pred):\n",
    "    labels = pred.label_ids\n",
    "    preds = pred.predictions.argmax(-1)\n",
    "    f1 = f1_score(labels, preds, average = 'weighted')\n",
    "    acc = accuracy_score(labels, preds)\n",
    "    return {'Validation accuracy':acc, 'Validation f1':f1}\n"
   ]
  },
  {
   "cell_type": "code",
   "execution_count": null,
   "id": "d0ff22cf-7bd5-413c-ae78-4301dcb24bc3",
   "metadata": {},
   "outputs": [],
   "source": []
  },
  {
   "cell_type": "code",
   "execution_count": 10,
   "id": "22ea823b",
   "metadata": {},
   "outputs": [
    {
     "data": {
      "text/plain": [
       "50000"
      ]
     },
     "execution_count": 10,
     "metadata": {},
     "output_type": "execute_result"
    }
   ],
   "source": [
    "len(train_dataset)"
   ]
  },
  {
   "cell_type": "code",
   "execution_count": 11,
   "id": "9da4b6b5-811f-4ce8-9d2b-df51c4ec1f16",
   "metadata": {},
   "outputs": [],
   "source": [
    "\n",
    "batch_size = 32\n",
    "step_len = len(train_dataset)//batch_size\n",
    "\n",
    "training_args = TrainingArguments(\n",
    "    output_dir='./results_db',          # output directory\n",
    "    learning_rate = 1e-5,\n",
    "    num_train_epochs=5,              # total number of training epochs\n",
    "    per_device_train_batch_size=batch_size,  # batch size per device during training\n",
    "    per_device_eval_batch_size=batch_size,   # batch size for evaluation\n",
    "    warmup_steps=600,                # number of warmup steps for learning rate scheduler\n",
    "    logging_dir='./logs_db',            # directory for storing logs\n",
    "    logging_steps=step_len//10,\n",
    "    evaluation_strategy = 'epoch',\n",
    "    save_strategy = 'epoch',\n",
    "    seed=SEED,\n",
    ")\n",
    "\n",
    "model = DistilBertForSequenceClassification.from_pretrained(\"distilbert-base-uncased-finetuned-sst-2-english\").to(device)\n",
    "\n",
    "trainer = Trainer(\n",
    "    model=model,                         # the instantiated Transformers model to be trained\n",
    "    args=training_args,                  # training arguments, defined above\n",
    "    tokenizer = tokenizer,\n",
    "    train_dataset=train_dataset,         # training dataset\n",
    "    eval_dataset=val_dataset,             # evaluation dataset\n",
    "    compute_metrics=compute_metric\n",
    ")\n",
    "\n",
    "\n",
    "trainer.args._n_gpu = 1"
   ]
  },
  {
   "cell_type": "code",
   "execution_count": null,
   "id": "e61272d2-564b-4363-8d10-d2f06a799c21",
   "metadata": {},
   "outputs": [],
   "source": []
  },
  {
   "cell_type": "code",
   "execution_count": null,
   "id": "91dfb89f-ce78-4e77-90ab-eaf02daa1dd3",
   "metadata": {},
   "outputs": [],
   "source": [
    "trainer.train()"
   ]
  },
  {
   "cell_type": "code",
   "execution_count": null,
   "id": "964eb36f-5ea1-4494-9ff6-a058b8e57e4a",
   "metadata": {},
   "outputs": [],
   "source": []
  },
  {
   "cell_type": "code",
   "execution_count": null,
   "id": "b86d2e9c-51ca-4082-b08b-c01c81eb00f8",
   "metadata": {},
   "outputs": [],
   "source": []
  },
  {
   "cell_type": "code",
   "execution_count": null,
   "id": "2ddd2373-733d-4c5c-b996-90deb9abd906",
   "metadata": {},
   "outputs": [],
   "source": []
  },
  {
   "cell_type": "markdown",
   "id": "9c3fb674-b976-4f5b-ac3a-9bb5b923a486",
   "metadata": {},
   "source": [
    "# Evaluation"
   ]
  },
  {
   "cell_type": "code",
   "execution_count": 14,
   "id": "fe8abcf0-a9a2-4f59-a623-8355485bc7b4",
   "metadata": {},
   "outputs": [],
   "source": [
    "#test set evaluation"
   ]
  },
  {
   "cell_type": "code",
   "execution_count": null,
   "id": "44dda03b-1e08-47ba-bc53-cbd5a3949b00",
   "metadata": {},
   "outputs": [],
   "source": []
  },
  {
   "cell_type": "code",
   "execution_count": null,
   "id": "d3f3913b-ef54-40f9-adcb-71dfc08a09cc",
   "metadata": {},
   "outputs": [],
   "source": [
    "tokenizer = DistilBertTokenizerFast.from_pretrained('distilbert-base-uncased-finetuned-sst-2-english', truncation_side='left')\n",
    "model1 = DistilBertForSequenceClassification.from_pretrained(\"../trained_models/classifier_real_data/cp/\").to(device)\n",
    "model1.eval()\n",
    "print(1)"
   ]
  },
  {
   "cell_type": "code",
   "execution_count": null,
   "id": "f3f72a8e-3be5-4a27-99a2-dc33a7b679e1",
   "metadata": {},
   "outputs": [],
   "source": []
  },
  {
   "cell_type": "code",
   "execution_count": 10,
   "id": "f9d0937c-d72f-4e69-9bdd-8f39eb7d94a3",
   "metadata": {},
   "outputs": [],
   "source": [
    "sys.path.append(\"..\")\n",
    "from utils.eval_utils import evaluate_accuracy_gpu, evaluate_f1_gpu, plot_confusion_matrix"
   ]
  },
  {
   "cell_type": "code",
   "execution_count": null,
   "id": "afb4a2f8-e3d7-4e6f-b745-41161ad7fa83",
   "metadata": {},
   "outputs": [],
   "source": []
  },
  {
   "cell_type": "code",
   "execution_count": null,
   "id": "22c4b22e-eb34-4410-bf57-d61d2f057515",
   "metadata": {},
   "outputs": [],
   "source": []
  },
  {
   "cell_type": "code",
   "execution_count": 15,
   "id": "eb71cb15-2539-452b-bf28-a6444e61dd88",
   "metadata": {},
   "outputs": [],
   "source": [
    "_, y_t, y_h_t = evaluate_f1_gpu(model1, test_dataset)"
   ]
  },
  {
   "cell_type": "code",
   "execution_count": null,
   "id": "fac9c0d4-d616-48ff-8b2b-2286ea3cb8cd",
   "metadata": {},
   "outputs": [],
   "source": []
  },
  {
   "cell_type": "code",
   "execution_count": 20,
   "id": "92a6db2b-fd29-45bd-834e-472683ee34ab",
   "metadata": {},
   "outputs": [
    {
     "name": "stdout",
     "output_type": "stream",
     "text": [
      "\n",
      "Testing Metrics\n",
      "\n",
      "              precision    recall  f1-score   support\n",
      "\n",
      "    Negative     0.9031    0.9484    0.9252      5000\n",
      "    Positive     0.9457    0.8982    0.9213      5000\n",
      "\n",
      "    accuracy                         0.9233     10000\n",
      "   macro avg     0.9244    0.9233    0.9233     10000\n",
      "weighted avg     0.9244    0.9233    0.9233     10000\n",
      "\n"
     ]
    }
   ],
   "source": [
    "print('\\nTesting Metrics\\n')\n",
    "print(classification_report(y_t, y_h_t, target_names=['Negative', 'Positive'], digits=4))"
   ]
  },
  {
   "cell_type": "code",
   "execution_count": null,
   "id": "d838da43-43c1-4301-b411-1be00368102b",
   "metadata": {},
   "outputs": [],
   "source": []
  },
  {
   "cell_type": "code",
   "execution_count": null,
   "id": "1d1b0297-976f-42d6-ade9-c4fd99f831e9",
   "metadata": {},
   "outputs": [],
   "source": []
  },
  {
   "cell_type": "code",
   "execution_count": 25,
   "id": "48962378-4b2c-4db2-bb57-39636d529d45",
   "metadata": {},
   "outputs": [],
   "source": [
    "from transformers import pipeline"
   ]
  },
  {
   "cell_type": "code",
   "execution_count": 26,
   "id": "84c18123-ae55-4c66-9111-0cd5bf344cc0",
   "metadata": {},
   "outputs": [],
   "source": [
    "test_p = pipeline(\"text-classification\", model=model1, tokenizer=tokenizer, device=device, )"
   ]
  },
  {
   "cell_type": "code",
   "execution_count": 27,
   "id": "9e0751cd-d36d-40b4-ae81-ed00d9b8c567",
   "metadata": {},
   "outputs": [],
   "source": [
    "class ModP :\n",
    "    \n",
    "    def __init__(self, pipe_l):\n",
    "        self.peipe_l = pipe_l\n",
    "        \n",
    "    def predict_proba(self, inps):\n",
    "        \n",
    "        ab = self.peipe_l(inps)\n",
    "        \n",
    "        op = []\n",
    "        \n",
    "        for each in ab:\n",
    "    \n",
    "            if each[\"label\"] == \"POSITIVE\":\n",
    "                op.append([1-each[\"score\"], each[\"score\"]])\n",
    "            else:\n",
    "                op.append([each[\"score\"], 1-each[\"score\"]])\n",
    "                \n",
    "        return np.array(op)"
   ]
  },
  {
   "cell_type": "code",
   "execution_count": 28,
   "id": "de064bd3-5b5f-409f-92a4-257ac746abac",
   "metadata": {},
   "outputs": [],
   "source": [
    "ts_mod = ModP(test_p)"
   ]
  },
  {
   "cell_type": "code",
   "execution_count": 29,
   "id": "1fea48b9-54a5-4fc1-8530-002aa622856d",
   "metadata": {},
   "outputs": [],
   "source": [
    "ts_mod = ModP(test_p)"
   ]
  },
  {
   "cell_type": "code",
   "execution_count": 30,
   "id": "11dd447b-5dcc-43e0-bafb-bbd297cd7105",
   "metadata": {},
   "outputs": [
    {
     "data": {
      "text/plain": [
       "array([[0.0074, 0.9926],\n",
       "       [0.9976, 0.0024]])"
      ]
     },
     "execution_count": 30,
     "metadata": {},
     "output_type": "execute_result"
    }
   ],
   "source": [
    "ts_mod.predict_proba([\"the movie was very good\", \"the movie was terrible\"])"
   ]
  },
  {
   "cell_type": "code",
   "execution_count": null,
   "id": "0c5cd337-6db4-4f53-b2e2-19f61f7ac5e7",
   "metadata": {},
   "outputs": [],
   "source": []
  }
 ],
 "metadata": {
  "kernelspec": {
   "display_name": "Python 3 (ipykernel)",
   "language": "python",
   "name": "python3"
  },
  "language_info": {
   "codemirror_mode": {
    "name": "ipython",
    "version": 3
   },
   "file_extension": ".py",
   "mimetype": "text/x-python",
   "name": "python",
   "nbconvert_exporter": "python",
   "pygments_lexer": "ipython3",
   "version": "3.10.6"
  }
 },
 "nbformat": 4,
 "nbformat_minor": 5
}
